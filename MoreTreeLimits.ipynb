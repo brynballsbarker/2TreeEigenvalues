{
 "cells": [
  {
   "cell_type": "code",
   "execution_count": 1,
   "metadata": {},
   "outputs": [],
   "source": [
    "import numpy as np\n",
    "from scipy.sparse import diags\n",
    "from scipy.linalg import eigh\n",
    "from math import ceil"
   ]
  },
  {
   "cell_type": "code",
   "execution_count": 3,
   "metadata": {},
   "outputs": [],
   "source": [
    "def compute(n, k):\n",
    "    A = diags([1, 1,1, 1], [-2,-1, 1, 2], shape=(n,n)).todense()\n",
    "    D = np.diag([np.sum(i) for i in A])\n",
    "    L = D - A\n",
    "    \n",
    "    eval_ = eigh(L, eigvals_only=True, eigvals=(k,k))[0]\n",
    "    \n",
    "    temp =  n**2 * (5*np.pi**2 - n**2 * eval_)\n",
    "    print(temp)"
   ]
  },
  {
   "cell_type": "code",
   "execution_count": 9,
   "metadata": {},
   "outputs": [
    {
     "name": "stdout",
     "output_type": "stream",
     "text": [
      "n: 4\n",
      "277.56835208714875\n",
      "n: 8\n",
      "214.8642137180359\n",
      "n: 16\n",
      "176.9898543237814\n",
      "n: 32\n",
      "157.57370695183636\n",
      "n: 64\n",
      "147.81101025268435\n",
      "n: 128\n",
      "142.91182759730145\n",
      "n: 256\n",
      "140.45635013189167\n",
      "n: 512\n",
      "139.2269181087613\n",
      "n: 1024\n",
      "138.61195416748524\n",
      "n: 2048\n",
      "138.30170714855194\n",
      "n: 4096\n",
      "138.0332579612732\n"
     ]
    }
   ],
   "source": [
    "for i in range(2,13):\n",
    "    n = 2**i\n",
    "    print('n: {}'.format(n))\n",
    "    \n",
    "    compute(n, 1)"
   ]
  },
  {
   "cell_type": "code",
   "execution_count": 2,
   "metadata": {},
   "outputs": [
    {
     "data": {
      "text/plain": [
       "1.4170469767866962"
      ]
     },
     "execution_count": 2,
     "metadata": {},
     "output_type": "execute_result"
    }
   ],
   "source": [
    "138.0332579612732/np.pi**4"
   ]
  },
  {
   "cell_type": "code",
   "execution_count": 6,
   "metadata": {},
   "outputs": [
    {
     "data": {
      "text/plain": [
       "2.3978114503505443"
      ]
     },
     "execution_count": 6,
     "metadata": {},
     "output_type": "execute_result"
    }
   ],
   "source": [
    "1/.41704697"
   ]
  },
  {
   "cell_type": "code",
   "execution_count": 7,
   "metadata": {},
   "outputs": [
    {
     "data": {
      "text/plain": [
       "2.513753686875576"
      ]
     },
     "execution_count": 7,
     "metadata": {},
     "output_type": "execute_result"
    }
   ],
   "source": [
    "1/.397811450350544"
   ]
  },
  {
   "cell_type": "code",
   "execution_count": 8,
   "metadata": {},
   "outputs": [
    {
     "data": {
      "text/plain": [
       "1.9464580509028757"
      ]
     },
     "execution_count": 8,
     "metadata": {},
     "output_type": "execute_result"
    }
   ],
   "source": [
    "1/.513753686875576"
   ]
  },
  {
   "cell_type": "code",
   "execution_count": 9,
   "metadata": {},
   "outputs": [
    {
     "data": {
      "text/plain": [
       "1.0565708633848567"
      ]
     },
     "execution_count": 9,
     "metadata": {},
     "output_type": "execute_result"
    }
   ],
   "source": [
    "1/.9464580509028757"
   ]
  },
  {
   "cell_type": "code",
   "execution_count": 10,
   "metadata": {},
   "outputs": [
    {
     "data": {
      "text/plain": [
       "17.67694428131509"
      ]
     },
     "execution_count": 10,
     "metadata": {},
     "output_type": "execute_result"
    }
   ],
   "source": [
    "1/.0565708633848567"
   ]
  },
  {
   "cell_type": "code",
   "execution_count": 4,
   "metadata": {},
   "outputs": [
    {
     "name": "stdout",
     "output_type": "stream",
     "text": [
      "138.26612956790996\n"
     ]
    }
   ],
   "source": [
    "compute(5000,1)"
   ]
  },
  {
   "cell_type": "code",
   "execution_count": 7,
   "metadata": {},
   "outputs": [
    {
     "data": {
      "text/plain": [
       "138.174461615251"
      ]
     },
     "execution_count": 7,
     "metadata": {},
     "output_type": "execute_result"
    }
   ],
   "source": [
    "14*np.pi**2"
   ]
  },
  {
   "cell_type": "code",
   "execution_count": null,
   "metadata": {},
   "outputs": [],
   "source": []
  },
  {
   "cell_type": "code",
   "execution_count": 13,
   "metadata": {},
   "outputs": [
    {
     "data": {
      "text/plain": [
       "1.618033988749895"
      ]
     },
     "execution_count": 13,
     "metadata": {},
     "output_type": "execute_result"
    }
   ],
   "source": [
    ".5 + np.sqrt(5)/2"
   ]
  },
  {
   "cell_type": "code",
   "execution_count": 14,
   "metadata": {},
   "outputs": [
    {
     "data": {
      "text/plain": [
       "1.6180339887498945"
      ]
     },
     "execution_count": 14,
     "metadata": {},
     "output_type": "execute_result"
    }
   ],
   "source": [
    "1/.618033988749895"
   ]
  },
  {
   "cell_type": "markdown",
   "metadata": {},
   "source": [
    "# $n^2(5\\pi^2-n^2\\lambda_2) \\to 14\\pi^2$"
   ]
  },
  {
   "cell_type": "code",
   "execution_count": 22,
   "metadata": {},
   "outputs": [],
   "source": [
    "def compute(n, k):\n",
    "    A = diags([1, 1,1, 1], [-2,-1, 1, 2], shape=(n,n)).todense()\n",
    "    D = np.diag([np.sum(i) for i in A])\n",
    "    L = D - A\n",
    "    \n",
    "    eval_ = eigh(L, eigvals_only=True, eigvals=(k,k))[0]\n",
    "\n",
    "    temp =  n**2 * (20*np.pi**2 - n**2 * eval_)\n",
    "    print(temp)"
   ]
  },
  {
   "cell_type": "code",
   "execution_count": 20,
   "metadata": {},
   "outputs": [
    {
     "name": "stdout",
     "output_type": "stream",
     "text": [
      "n: 4\n",
      "2134.273408348595\n",
      "n: 8\n",
      "3343.5737411965\n",
      "n: 16\n",
      "2815.8986757395323\n",
      "n: 32\n",
      "2515.3827759306005\n",
      "n: 64\n",
      "2363.258647782379\n",
      "n: 128\n",
      "2286.1221788092516\n",
      "n: 256\n",
      "2247.179774593562\n",
      "n: 512\n",
      "2227.5992845743895\n",
      "n: 1024\n",
      "2217.7796004116535\n",
      "n: 2048\n",
      "2212.8584945201874\n"
     ]
    }
   ],
   "source": [
    "for i in range(2,12):\n",
    "    n = 2**i\n",
    "    print('n: {}'.format(n))\n",
    "    \n",
    "    compute(n, 2)"
   ]
  },
  {
   "cell_type": "code",
   "execution_count": 21,
   "metadata": {},
   "outputs": [
    {
     "data": {
      "text/plain": [
       "2210.791385844016"
      ]
     },
     "execution_count": 21,
     "metadata": {},
     "output_type": "execute_result"
    }
   ],
   "source": [
    "224*np.pi**2"
   ]
  },
  {
   "cell_type": "code",
   "execution_count": 5,
   "metadata": {},
   "outputs": [
    {
     "data": {
      "text/plain": [
       "40.58712126416767"
      ]
     },
     "execution_count": 5,
     "metadata": {},
     "output_type": "execute_result"
    }
   ],
   "source": [
    "5*np.pi**4/12"
   ]
  },
  {
   "cell_type": "code",
   "execution_count": null,
   "metadata": {},
   "outputs": [],
   "source": []
  },
  {
   "cell_type": "markdown",
   "metadata": {},
   "source": [
    "# $n^2(20\\pi^2-n^2\\lambda_3) \\to 224\\pi^2$"
   ]
  },
  {
   "cell_type": "code",
   "execution_count": 46,
   "metadata": {},
   "outputs": [],
   "source": [
    "def compute(n, k):\n",
    "    A = diags([1, 1,1, 1], [-2,-1, 1, 2], shape=(n,n)).todense()\n",
    "    D = np.diag([np.sum(i) for i in A])\n",
    "    L = D - A\n",
    "    \n",
    "    eval_ = eigh(L, eigvals_only=True, eigvals=(k,k))[0]\n",
    "    \n",
    "    temp = n*(4.5- eval_)\n",
    "    print(temp)\n",
    "    return temp"
   ]
  },
  {
   "cell_type": "code",
   "execution_count": 50,
   "metadata": {
    "scrolled": true
   },
   "outputs": [
    {
     "name": "stdout",
     "output_type": "stream",
     "text": [
      "n: 100\n",
      "9.142209495680564\n",
      "n: 200\n",
      "10.531263083119136\n",
      "n: 300\n",
      "9.265156140196584\n",
      "n: 400\n",
      "10.551770689547624\n",
      "n: 500\n",
      "9.287652596652318\n",
      "n: 600\n",
      "10.54443789896009\n",
      "n: 700\n",
      "9.297524063890883\n",
      "n: 800\n",
      "10.530567996210749\n",
      "n: 900\n",
      "9.303609111944677\n",
      "n: 1000\n",
      "10.514167704838151\n",
      "n: 1100\n",
      "9.308256304261064\n",
      "n: 1200\n",
      "10.496539924070802\n",
      "n: 1300\n",
      "9.312358946490296\n",
      "n: 1400\n",
      "10.47823630320579\n",
      "n: 1500\n",
      "9.316332390915338\n",
      "n: 1600\n",
      "10.459531375879294\n",
      "n: 1700\n",
      "9.32039692883384\n",
      "n: 1800\n",
      "10.440577874893187\n",
      "n: 1900\n",
      "9.324680946855413\n",
      "n: 2000\n",
      "10.421468127427502\n",
      "n: 2100\n",
      "9.329264812782068\n",
      "n: 2200\n",
      "10.402261722110318\n",
      "n: 2300\n",
      "9.334201746081394\n",
      "n: 2400\n",
      "10.38299925170918\n",
      "n: 2500\n",
      "9.339528620253557\n",
      "n: 2600\n",
      "10.363709674734345\n",
      "n: 2700\n",
      "9.34527193969883\n",
      "n: 2800\n",
      "10.344414504632482\n",
      "n: 2900\n",
      "9.351451330051752\n",
      "n: 3000\n",
      "10.325130314877917\n",
      "n: 3100\n",
      "9.358081669193208\n",
      "n: 3200\n",
      "10.305870300416586\n",
      "n: 3300\n",
      "9.365174437866752\n",
      "n: 3400\n",
      "10.28664528586809\n",
      "n: 3500\n",
      "9.372738603261599\n",
      "n: 3600\n",
      "10.2674643965873\n",
      "n: 3700\n",
      "9.380781213082301\n",
      "n: 3800\n",
      "10.248335517333551\n",
      "n: 3900\n",
      "9.38930780448013\n",
      "n: 4000\n",
      "10.229265613176608\n",
      "n: 4100\n",
      "9.3983226915336\n",
      "n: 4200\n",
      "10.210260958722905\n",
      "n: 4300\n",
      "9.407829171096704\n",
      "n: 4400\n",
      "10.19132730493233\n",
      "n: 4500\n",
      "9.417829672699884\n",
      "n: 4600\n",
      "10.172470002654599\n",
      "n: 4700\n",
      "9.428325869453058\n",
      "n: 4800\n",
      "10.153694095465937\n",
      "n: 4900\n",
      "9.439318761269178\n"
     ]
    }
   ],
   "source": [
    "vals = []\n",
    "for i in range(1,50):\n",
    "    n = 100*i\n",
    "    print('n: {}'.format(n))\n",
    "    \n",
    "    vals.append(compute(n, int(n/2 - 1)))"
   ]
  },
  {
   "cell_type": "code",
   "execution_count": 51,
   "metadata": {},
   "outputs": [
    {
     "data": {
      "image/png": "[encoded data removed]",
      "text/plain": [
       "<matplotlib.figure.Figure at 0x7fc7bc45bd68>"
      ]
     },
     "metadata": {},
     "output_type": "display_data"
    }
   ],
   "source": [
    "import matplotlib.pyplot as plt\n",
    "\n",
    "plt.plot(vals)\n",
    "plt.show()"
   ]
  },
  {
   "cell_type": "code",
   "execution_count": 52,
   "metadata": {},
   "outputs": [
    {
     "data": {
      "text/plain": [
       "9.869604401089358"
      ]
     },
     "execution_count": 52,
     "metadata": {},
     "output_type": "execute_result"
    }
   ],
   "source": [
    "np.pi**2"
   ]
  },
  {
   "cell_type": "code",
   "execution_count": 90,
   "metadata": {},
   "outputs": [],
   "source": [
    "top = [v for v in vals if v > 10.]\n",
    "bottom = [v for v in vals if v <10.]\n",
    "\n",
    "slope = [top[i]-top[i-1] for i in range(1,len(top))]\n",
    "slope2 = [bottom[i]-bottom[i-1] for i in range(1,len(bottom))]"
   ]
  },
  {
   "cell_type": "code",
   "execution_count": 76,
   "metadata": {},
   "outputs": [],
   "source": [
    "x = np.linspace(0,120,1000)\n",
    "y = lambda x: .5*np.mean(slope[6:])*(x-47)+ vals[-2]\n",
    "y2 = lambda x: .5*np.mean(slope2[6:])*(x-48)+vals[-1]"
   ]
  },
  {
   "cell_type": "code",
   "execution_count": 87,
   "metadata": {},
   "outputs": [
    {
     "data": {
      "image/png": "[encoded data removed]",
      "text/plain": [
       "<matplotlib.figure.Figure at 0x7fc7d630e160>"
      ]
     },
     "metadata": {},
     "output_type": "display_data"
    }
   ],
   "source": [
    "plt.plot(x, y(x))\n",
    "plt.plot(x, y2(x))\n",
    "plt.plot([102.031], [9.628],'ko')\n",
    "plt.plot(vals)\n",
    "plt.show()"
   ]
  },
  {
   "cell_type": "code",
   "execution_count": 103,
   "metadata": {},
   "outputs": [
    {
     "data": {
      "text/plain": [
       "3.0646875841775367"
      ]
     },
     "execution_count": 103,
     "metadata": {},
     "output_type": "execute_result"
    }
   ],
   "source": [
    "9.628/np.pi"
   ]
  },
  {
   "cell_type": "code",
   "execution_count": 15,
   "metadata": {},
   "outputs": [
    {
     "data": {
      "text/plain": [
       "9.42477796076938"
      ]
     },
     "execution_count": 15,
     "metadata": {},
     "output_type": "execute_result"
    }
   ],
   "source": [
    "3*np.pi"
   ]
  },
  {
   "cell_type": "markdown",
   "metadata": {},
   "source": [
    "# $n(4.5-\\lambda_{n/2}) \\to \\approx 9.628$"
   ]
  },
  {
   "cell_type": "code",
   "execution_count": 101,
   "metadata": {},
   "outputs": [],
   "source": [
    "def compute(n, k):\n",
    "    A = diags([1, 1,1, 1], [-2,-1, 1, 2], shape=(n,n)).todense()\n",
    "    D = np.diag([np.sum(i) for i in A])\n",
    "    L = D - A\n",
    "    \n",
    "    eval_ = eigh(L, eigvals_only=True, eigvals=(k,k))[0]\n",
    "    \n",
    "    temp = n**2* (6.25 - eval_)\n",
    "    print(temp)"
   ]
  },
  {
   "cell_type": "code",
   "execution_count": 102,
   "metadata": {},
   "outputs": [
    {
     "name": "stdout",
     "output_type": "stream",
     "text": [
      "n: 4\n",
      "36.0\n",
      "n: 8\n",
      "33.14874831559183\n",
      "n: 16\n",
      "37.41838544951588\n",
      "n: 32\n",
      "36.41188181167399\n",
      "n: 64\n",
      "37.307426823372225\n",
      "n: 128\n",
      "37.1301873709308\n",
      "n: 256\n",
      "36.94849600578891\n",
      "n: 512\n",
      "37.059888407820836\n",
      "n: 1024\n",
      "37.018149787560105\n",
      "n: 2048\n",
      "37.00184965878725\n",
      "n: 4096\n",
      "37.01031540334225\n"
     ]
    }
   ],
   "source": [
    "for i in range(2,13):\n",
    "    n = 2**i\n",
    "    print('n: {}'.format(n))\n",
    "    \n",
    "    compute(n, n-1)"
   ]
  },
  {
   "cell_type": "code",
   "execution_count": 96,
   "metadata": {},
   "outputs": [
    {
     "data": {
      "text/plain": [
       "3.7490712043753165"
      ]
     },
     "execution_count": 96,
     "metadata": {},
     "output_type": "execute_result"
    }
   ],
   "source": [
    "37.0018496587/np.pi**2"
   ]
  },
  {
   "cell_type": "code",
   "execution_count": 104,
   "metadata": {},
   "outputs": [
    {
     "data": {
      "text/plain": [
       "37.01101650408509"
      ]
     },
     "execution_count": 104,
     "metadata": {},
     "output_type": "execute_result"
    }
   ],
   "source": [
    "3.75*np.pi**2"
   ]
  },
  {
   "cell_type": "code",
   "execution_count": 105,
   "metadata": {},
   "outputs": [],
   "source": [
    "def compute(n, k):\n",
    "    A = diags([1, 1,1, 1], [-2,-1, 1, 2], shape=(n,n)).todense()\n",
    "    D = np.diag([np.sum(i) for i in A])\n",
    "    L = D - A\n",
    "    \n",
    "    eval_ = eigh(L, eigvals_only=True, eigvals=(k,k))[0]\n",
    "    \n",
    "    temp = 3.75*np.pi**2 - n**2* (6.25 - eval_)\n",
    "    print(temp)"
   ]
  },
  {
   "cell_type": "code",
   "execution_count": 106,
   "metadata": {},
   "outputs": [
    {
     "name": "stdout",
     "output_type": "stream",
     "text": [
      "n: 4\n",
      "1.0110165040850916\n",
      "n: 8\n",
      "3.8622681884932604\n",
      "n: 16\n",
      "-0.4073689454307896\n",
      "n: 32\n",
      "0.5991346924110985\n",
      "n: 64\n",
      "-0.29641031928713346\n",
      "n: 128\n",
      "-0.11917086684570677\n",
      "n: 256\n",
      "0.06252049829618045\n",
      "n: 512\n",
      "-0.04887190373574413\n",
      "n: 1024\n",
      "-0.007133283475013741\n",
      "n: 2048\n",
      "0.009166845297841064\n",
      "n: 4096\n",
      "0.0007011007428445737\n"
     ]
    }
   ],
   "source": [
    "for i in range(2,13):\n",
    "    n = 2**i\n",
    "    print('n: {}'.format(n))\n",
    "    \n",
    "    compute(n, n-1)"
   ]
  },
  {
   "cell_type": "markdown",
   "metadata": {},
   "source": [
    "# $3.75\\pi^2 - n^2(6.25-\\lambda_{max}) \\to 0$"
   ]
  },
  {
   "cell_type": "code",
   "execution_count": null,
   "metadata": {},
   "outputs": [],
   "source": []
  },
  {
   "cell_type": "code",
   "execution_count": null,
   "metadata": {},
   "outputs": [],
   "source": []
  },
  {
   "cell_type": "code",
   "execution_count": null,
   "metadata": {},
   "outputs": [],
   "source": []
  },
  {
   "cell_type": "code",
   "execution_count": null,
   "metadata": {},
   "outputs": [],
   "source": [
    "def compute(n, k):\n",
    "    A = diags([1, 1,1, 1], [-2,-1, 1, 2], shape=(n,n)).todense()\n",
    "    D = np.diag([np.sum(i) for i in A])\n",
    "    L = D - A\n",
    "    \n",
    "    eval_ = eigh(L, eigvals_only=True, eigvals=(k,k))[0]\n",
    "    \n",
    "    temp = n**2* (6.25 - eval_)\n",
    "    print(temp)"
   ]
  }
 ],
 "metadata": {
  "kernelspec": {
   "display_name": "Python [anaconda]",
   "language": "python",
   "name": "Python [anaconda]"
  },
  "language_info": {
   "codemirror_mode": {
    "name": "ipython",
    "version": 2
   },
   "file_extension": ".py",
   "mimetype": "text/x-python",
   "name": "python",
   "nbconvert_exporter": "python",
   "pygments_lexer": "ipython2",
   "version": "2.7.14"
  }
 },
 "nbformat": 4,
 "nbformat_minor": 2
}
