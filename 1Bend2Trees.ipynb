{
 "cells": [
  {
   "cell_type": "code",
   "execution_count": 2,
   "metadata": {},
   "outputs": [],
   "source": [
    "import numpy as np\n",
    "from scipy.sparse import diags\n",
    "from scipy.linalg import eigh\n",
    "from math import ceil\n",
    "import networkx as nx\n",
    "import matplotlib.pyplot as plt"
   ]
  },
  {
   "cell_type": "code",
   "execution_count": 40,
   "metadata": {},
   "outputs": [],
   "source": [
    "def compute(n, k):\n",
    "    bend = 2#int(n/2 - 1)\n",
    "    A = diags([1, 1,1,1], [-2,-1, 1,2], shape=(n,n)).todense()\n",
    "    A[bend,bend+3] = 1\n",
    "    A[bend+3,bend]=1\n",
    "    A[bend+3,bend+1]=0\n",
    "    A[bend+1,bend+3] = 0\n",
    "    \n",
    "    #G = nx.from_numpy_matrix(A)\n",
    "    #nx.draw(G)\n",
    "    #plt.show()\n",
    "    D = np.diag([np.sum(i) for i in A])\n",
    "    L = D - A\n",
    "    \n",
    "    evals = eigh(L, eigvals_only=True, eigvals=(k,k))[0]\n",
    "    print(evals)\n",
    "    #temp =  \n",
    "    #print(temp)"
   ]
  },
  {
   "cell_type": "code",
   "execution_count": 45,
   "metadata": {
    "scrolled": true
   },
   "outputs": [
    {
     "name": "stdout",
     "output_type": "stream",
     "text": [
      "0.0005482954629016197\n",
      "0.00030842001854458536\n",
      "0.00019738996904949344\n",
      "0.00013707680987348867\n",
      "0.00010070969078904214\n",
      "7.710595596419463e-05\n",
      "6.092327833827607e-05\n"
     ]
    }
   ],
   "source": [
    "for i in range(3,10):\n",
    "    n = i*100\n",
    "    compute(n,1)"
   ]
  },
  {
   "cell_type": "code",
   "execution_count": 37,
   "metadata": {},
   "outputs": [
    {
     "data": {
      "text/plain": [
       "0.34431301635440636"
      ]
     },
     "execution_count": 37,
     "metadata": {},
     "output_type": "execute_result"
    }
   ],
   "source": [
    "6.594313016354406-6.25"
   ]
  },
  {
   "cell_type": "code",
   "execution_count": 42,
   "metadata": {},
   "outputs": [
    {
     "data": {
      "text/plain": [
       "40.833010467476214"
      ]
     },
     "execution_count": 42,
     "metadata": {},
     "output_type": "execute_result"
    }
   ],
   "source": [
    "6.390071241189429**2\n"
   ]
  },
  {
   "cell_type": "code",
   "execution_count": 46,
   "metadata": {},
   "outputs": [
    {
     "name": "stdout",
     "output_type": "stream",
     "text": [
      "1.2336996963952223e-05\n"
     ]
    }
   ],
   "source": [
    "compute(2000,1)"
   ]
  },
  {
   "cell_type": "code",
   "execution_count": 28,
   "metadata": {},
   "outputs": [],
   "source": [
    "def get_fraction(num, max_its=100):\n",
    "    ints = []\n",
    "    dec = []\n",
    "    for i in range(max_its):\n",
    "        ints.append(int(num))\n",
    "        num -=int(num)\n",
    "        dec.append(num)\n",
    "        num = 1/num\n",
    "    return ints, dec"
   ]
  },
  {
   "cell_type": "code",
   "execution_count": 34,
   "metadata": {},
   "outputs": [
    {
     "data": {
      "text/plain": [
       "([1, 1, 1, 1, 1, 1, 1, 1, 1, 1, 1, 1, 1, 1, 1, 1, 1, 1, 1, 1],\n",
       " [0.6180339887498949,\n",
       "  0.6180339887498947,\n",
       "  0.6180339887498953,\n",
       "  0.6180339887498936,\n",
       "  0.6180339887498982,\n",
       "  0.618033988749886,\n",
       "  0.618033988749918,\n",
       "  0.6180339887498343,\n",
       "  0.6180339887500534,\n",
       "  0.6180339887494797,\n",
       "  0.6180339887509818,\n",
       "  0.6180339887470492,\n",
       "  0.6180339887573449,\n",
       "  0.6180339887303903,\n",
       "  0.6180339888009585,\n",
       "  0.6180339886162085,\n",
       "  0.6180339890998903,\n",
       "  0.618033987833595,\n",
       "  0.6180339911487991,\n",
       "  0.618033982469482])"
      ]
     },
     "execution_count": 34,
     "metadata": {},
     "output_type": "execute_result"
    }
   ],
   "source": [
    "get_fraction(.5+np.sqrt(5)/2,20)"
   ]
  },
  {
   "cell_type": "code",
   "execution_count": 43,
   "metadata": {},
   "outputs": [
    {
     "data": {
      "text/plain": [
       "([6, 2, 1, 1, 3, 2, 3, 157, 3, 2, 21, 1, 2, 2, 2, 1, 2, 4, 2, 3],\n",
       " [0.39007124118942915,\n",
       "  0.5636342657580666,\n",
       "  0.7742001520348272,\n",
       "  0.2916556492164255,\n",
       "  0.42870094471560094,\n",
       "  0.3326284029147577,\n",
       "  0.0063578192276887435,\n",
       "  0.2866362171687342,\n",
       "  0.4887426644042323,\n",
       "  0.04606651481711799,\n",
       "  0.7077415986417783,\n",
       "  0.412945066277145,\n",
       "  0.4216296104839703,\n",
       "  0.3717499320129427,\n",
       "  0.6899803171051673,\n",
       "  0.44931670543230773,\n",
       "  0.2256016478128835,\n",
       "  0.43259173722618804,\n",
       "  0.3116484064445566,\n",
       "  0.20874414667640417])"
      ]
     },
     "execution_count": 43,
     "metadata": {},
     "output_type": "execute_result"
    }
   ],
   "source": [
    "get_fraction(6.390071241189429,20)"
   ]
  },
  {
   "cell_type": "code",
   "execution_count": null,
   "metadata": {},
   "outputs": [],
   "source": [
    "def compute(n, k):\n",
    "    bend = 2#int(n/2 - 1)\n",
    "    A = diags([1, 1,1,1], [-2,-1, 1,2], shape=(n,n)).todense()\n",
    "    A[bend,bend+3] = 1\n",
    "    A[bend+3,bend]=1\n",
    "    A[bend+3,bend+1]=0\n",
    "    A[bend+1,bend+3] = 0\n",
    "    \n",
    "    #G = nx.from_numpy_matrix(A)\n",
    "    #nx.draw(G)\n",
    "    #plt.show()\n",
    "    D = np.diag([np.sum(i) for i in A])\n",
    "    L = D - A\n",
    "    \n",
    "    evals = eigh(L, eigvals_only=True, eigvals=(k,k))[0]\n",
    "    print(evals)\n",
    "    #temp =  \n",
    "    #print(temp)"
   ]
  }
 ],
 "metadata": {
  "kernelspec": {
   "display_name": "Python [Root]",
   "language": "python",
   "name": "Python [Root]"
  },
  "language_info": {
   "codemirror_mode": {
    "name": "ipython",
    "version": 2
   },
   "file_extension": ".py",
   "mimetype": "text/x-python",
   "name": "python",
   "nbconvert_exporter": "python",
   "pygments_lexer": "ipython2",
   "version": "2.7.14"
  }
 },
 "nbformat": 4,
 "nbformat_minor": 2
}
