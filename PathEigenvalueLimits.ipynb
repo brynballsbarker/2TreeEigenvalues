{
 "cells": [
  {
   "cell_type": "code",
   "execution_count": 12,
   "metadata": {
    "collapsed": true
   },
   "outputs": [],
   "source": [
    "import numpy as np\n",
    "from scipy.sparse import diags\n",
    "from scipy.linalg import eigh\n",
    "from math import ceil"
   ]
  },
  {
   "cell_type": "markdown",
   "metadata": {},
   "source": [
    "# Limits for $\\lambda_2$ of Path\n",
    "\n",
    "$\\frac{1}{360}\\pi ^6 - n^2\\left(\\frac{1}{12}\\pi ^4 - n^2(\\pi^2-n^2\\lambda_2)\\right)\\to 0$"
   ]
  },
  {
   "cell_type": "code",
   "execution_count": 29,
   "metadata": {
    "collapsed": true
   },
   "outputs": [],
   "source": [
    "def compute(n, k):\n",
    "    A = diags([1, 1], [-1, 1], shape=(n,n)).todense()\n",
    "    D = np.diag([np.sum(i) for i in A])\n",
    "    L = D - A\n",
    "    \n",
    "    evals = eigh(L, eigvals_only=True, eigvals=(k,k))[0]\n",
    "    print(evals)\n",
    "    temp = np.pi**6 / 360 - n**2 * (np.pi**4 /12 - n**2 * (np.pi**2 - n**2 * evals))\n",
    "    print(temp)"
   ]
  },
  {
   "cell_type": "code",
   "execution_count": 30,
   "metadata": {},
   "outputs": [
    {
     "name": "stdout",
     "output_type": "stream",
     "text": [
      "n: 8\n",
      "0.152240934977\n",
      "0.0073414958457\n",
      "n: 16\n",
      "0.0384294391935\n",
      "0.0018377374422\n",
      "n: 32\n",
      "0.00963054665561\n",
      "0.000459909921116\n",
      "n: 64\n",
      "0.00240908758966\n",
      "0.000108238658865\n",
      "n: 128\n",
      "0.000602362607591\n",
      "0.000658299592029\n",
      "n: 256\n",
      "0.000150596321711\n",
      "0.0872785090687\n",
      "n: 512\n",
      "3.76494347975e-05\n",
      "3.66676105596\n",
      "n: 1024\n",
      "9.41238084738e-06\n",
      "316.585155111\n",
      "n: 2048\n",
      "2.35309659609e-06\n",
      "6609.78216883\n"
     ]
    }
   ],
   "source": [
    "for i in range(3,12):\n",
    "    n = 2**i\n",
    "    print('n: {}'.format(n))\n",
    "    \n",
    "    compute(n, 1)"
   ]
  },
  {
   "cell_type": "code",
   "execution_count": 28,
   "metadata": {},
   "outputs": [
    {
     "data": {
      "text/plain": [
       "3.697650744520401"
      ]
     },
     "execution_count": 28,
     "metadata": {},
     "output_type": "execute_result"
    }
   ],
   "source": [
    "np.pi**6 / 260"
   ]
  },
  {
   "cell_type": "code",
   "execution_count": null,
   "metadata": {
    "collapsed": true
   },
   "outputs": [],
   "source": []
  },
  {
   "cell_type": "markdown",
   "metadata": {},
   "source": [
    "# Limits for $\\lambda_3$ of Path\n",
    "\n",
    "$\\frac{8}{45}\\pi ^6 - n^2\\left(\\frac{4}{3}\\pi ^4 - n^2(4\\pi^2 - n^2\\lambda_3)\\right)\\to 0$"
   ]
  },
  {
   "cell_type": "code",
   "execution_count": 37,
   "metadata": {
    "collapsed": true
   },
   "outputs": [],
   "source": [
    "def compute(n, k):\n",
    "    A = diags([1, 1], [-1, 1], shape=(n,n)).todense()\n",
    "    D = np.diag([np.sum(i) for i in A])\n",
    "    L = D - A\n",
    "    \n",
    "    evals = eigh(L, eigvals_only=True, eigvals=(k,k))[0]\n",
    "    print(evals)\n",
    "    temp = 8*np.pi**6 / 45 - n**2 * (4*np.pi**4 /3 - n**2 * (4*np.pi**2 - n**2 * evals))\n",
    "    print(temp)"
   ]
  },
  {
   "cell_type": "code",
   "execution_count": 38,
   "metadata": {},
   "outputs": [
    {
     "name": "stdout",
     "output_type": "stream",
     "text": [
      "n: 8\n",
      "0.585786437627\n",
      "1.86980169254\n",
      "n: 16\n",
      "0.152240934977\n",
      "0.469855736919\n",
      "n: 32\n",
      "0.0384294391935\n",
      "0.117615270807\n",
      "n: 64\n",
      "0.00963054665561\n",
      "0.0294039557919\n",
      "n: 128\n",
      "0.00240908758966\n",
      "0.00541283935289\n",
      "n: 256\n",
      "0.000602362607592\n",
      "-0.0593702909539\n",
      "n: 512\n",
      "0.000150596321711\n",
      "-3.4610504196\n",
      "n: 1024\n",
      "3.76494347975e-05\n",
      "290.735207581\n",
      "n: 2048\n",
      "9.41238084781e-06\n",
      "-11531.3000729\n"
     ]
    }
   ],
   "source": [
    "for i in range(3,12):\n",
    "    n = 2**i\n",
    "    print('n: {}'.format(n))\n",
    "    \n",
    "    compute(n, 2)"
   ]
  },
  {
   "cell_type": "code",
   "execution_count": 36,
   "metadata": {
    "scrolled": true
   },
   "outputs": [
    {
     "data": {
      "text/plain": [
       "129.87878804533656"
      ]
     },
     "execution_count": 36,
     "metadata": {},
     "output_type": "execute_result"
    }
   ],
   "source": [
    "4*np.pi**4/3"
   ]
  },
  {
   "cell_type": "code",
   "execution_count": null,
   "metadata": {
    "collapsed": true
   },
   "outputs": [],
   "source": []
  },
  {
   "cell_type": "markdown",
   "metadata": {},
   "source": [
    "# Limits for $\\lambda_n$ of Path\n",
    "\n",
    "$\\frac{1}{360}\\pi^6-n^2\\left(\\frac{1}{12}\\pi ^4 - n^2\\left(\\pi^2-n^2(4-\\lambda_n)\\right)\\right)\\to 0$"
   ]
  },
  {
   "cell_type": "code",
   "execution_count": 77,
   "metadata": {
    "collapsed": true
   },
   "outputs": [],
   "source": [
    "def compute(n, k):\n",
    "    A = diags([1, 1], [-1, 1], shape=(n,n)).todense()\n",
    "    D = np.diag([np.sum(i) for i in A])\n",
    "    L = D - A\n",
    "    \n",
    "    evals = eigh(L, eigvals_only=True, eigvals=(k,k))[0]\n",
    "    print(evals)\n",
    "    temp =np.pi**6/360- n**2 * (np.pi**4 / 12 - n**2 *( np.pi**2  - n**2 * (4 - evals)))\n",
    "    print(temp)"
   ]
  },
  {
   "cell_type": "code",
   "execution_count": 78,
   "metadata": {},
   "outputs": [
    {
     "name": "stdout",
     "output_type": "stream",
     "text": [
      "n: 8\n",
      "3.84775906502\n",
      "0.00734149587481\n",
      "n: 16\n",
      "3.96157056081\n",
      "0.00183774000334\n",
      "n: 32\n",
      "3.99036945334\n",
      "0.000459671502537\n",
      "n: 64\n",
      "3.99759091241\n",
      "0.000116583309133\n",
      "n: 128\n",
      "3.99939763739\n",
      "0.00126769748021\n",
      "n: 256\n",
      "3.99984940368\n",
      "-0.0838488102672\n",
      "n: 512\n",
      "3.99996235057\n",
      "-1.20945964717\n",
      "n: 1024\n",
      "3.99999058762\n",
      "45.3507801107\n",
      "n: 2048\n",
      "3.9999976469\n",
      "-4527.40533117\n"
     ]
    }
   ],
   "source": [
    "for i in range(3,12):\n",
    "    n = 2**i\n",
    "    print('n: {}'.format(n))\n",
    "    \n",
    "    compute(n, n-1)"
   ]
  },
  {
   "cell_type": "code",
   "execution_count": 76,
   "metadata": {},
   "outputs": [
    {
     "data": {
      "text/plain": [
       "0.9960586268281084"
      ]
     },
     "execution_count": 76,
     "metadata": {},
     "output_type": "execute_result"
    }
   ],
   "source": [
    "360*2.66/np.pi**6"
   ]
  },
  {
   "cell_type": "code",
   "execution_count": 35,
   "metadata": {},
   "outputs": [
    {
     "data": {
      "text/plain": [
       "5.000200412749369"
      ]
     },
     "execution_count": 35,
     "metadata": {},
     "output_type": "execute_result"
    }
   ],
   "source": [
    "49.35/np.pi**2"
   ]
  },
  {
   "cell_type": "markdown",
   "metadata": {},
   "source": [
    "# Limits for $\\lambda_{(n/2)}$ of Path\n",
    "\n",
    "$\\frac{1}{60}\\pi^5-n^2\\left(\\frac{1}{3}\\pi ^3 - n^2\\left(2\\pi - n(2-\\lambda_{(n/2)})\\right)\\right)\\to 0$"
   ]
  },
  {
   "cell_type": "code",
   "execution_count": 74,
   "metadata": {
    "collapsed": true
   },
   "outputs": [],
   "source": [
    "def compute(n, k):\n",
    "    A = diags([1, 1], [-1, 1], shape=(n,n)).todense()\n",
    "    D = np.diag([np.sum(i) for i in A])\n",
    "    L = D - A\n",
    "    \n",
    "    evals = eigh(L, eigvals_only=True, eigvals=(k,k))[0]\n",
    "    print(evals)\n",
    "    temp = n**2*(np.pi**5/60-n**2*(np.pi**3 / 3 - n**2 *(2* np.pi  - n * (2 - evals))))\n",
    "    print(temp)"
   ]
  },
  {
   "cell_type": "code",
   "execution_count": 75,
   "metadata": {},
   "outputs": [
    {
     "name": "stdout",
     "output_type": "stream",
     "text": [
      "n = 8\n",
      "1.23463313527\n",
      "1.19596559557\n",
      "n = 16\n",
      "1.60981935597\n",
      "1.19788743596\n",
      "n = 32\n",
      "1.80396571934\n",
      "1.19836444288\n",
      "n = 64\n",
      "1.90186465135\n",
      "1.19773374021\n",
      "n = 128\n",
      "1.95091754295\n",
      "1.43952624082\n",
      "n = 256\n",
      "1.97545692343\n",
      "2.22931544302\n",
      "n = 512\n",
      "1.9877282307\n",
      "-2289.54337055\n",
      "n = 1024\n",
      "1.99386408647\n",
      "-333805.543599\n",
      "n = 2048\n",
      "1.99693203963\n",
      "53296595.9037\n"
     ]
    }
   ],
   "source": [
    "for i in range(3, 12):\n",
    "    n = 2**i\n",
    "    print('n = {}'.format(n))\n",
    "    compute(n, int(n/2)-1)"
   ]
  },
  {
   "cell_type": "code",
   "execution_count": 69,
   "metadata": {},
   "outputs": [
    {
     "data": {
      "text/plain": [
       "16.027204274265358"
      ]
     },
     "execution_count": 69,
     "metadata": {},
     "output_type": "execute_result"
    }
   ],
   "source": [
    "960*5.109/np.pi**5"
   ]
  },
  {
   "cell_type": "code",
   "execution_count": 80,
   "metadata": {},
   "outputs": [
    {
     "data": {
      "text/plain": [
       "9.869604401089358"
      ]
     },
     "execution_count": 80,
     "metadata": {},
     "output_type": "execute_result"
    }
   ],
   "source": [
    "np.pi**2"
   ]
  },
  {
   "cell_type": "code",
   "execution_count": null,
   "metadata": {
    "collapsed": true
   },
   "outputs": [],
   "source": []
  }
 ],
 "metadata": {
  "kernelspec": {
   "display_name": "Python 3",
   "language": "python",
   "name": "python3"
  },
  "language_info": {
   "codemirror_mode": {
    "name": "ipython",
    "version": 3
   },
   "file_extension": ".py",
   "mimetype": "text/x-python",
   "name": "python",
   "nbconvert_exporter": "python",
   "pygments_lexer": "ipython3",
   "version": "3.6.1"
  }
 },
 "nbformat": 4,
 "nbformat_minor": 2
}
