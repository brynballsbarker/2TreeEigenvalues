{
 "cells": [
  {
   "cell_type": "code",
   "execution_count": 37,
   "metadata": {},
   "outputs": [],
   "source": [
    "import numpy as np\n",
    "from scipy.sparse import diags\n",
    "from scipy.linalg import eigh\n",
    "from math import ceil"
   ]
  },
  {
   "cell_type": "code",
   "execution_count": 47,
   "metadata": {},
   "outputs": [],
   "source": [
    "class tree():\n",
    "    def __init__(self):\n",
    "        self.L = None\n",
    "        return \n",
    "    \n",
    "    def getL(self, n):\n",
    "        A = diags([1, 1,1, 1], [-2,-1, 1, 2], shape=(n,n)).todense()\n",
    "        D = np.diag([np.sum(i) for i in A])\n",
    "        self.L = D - A\n",
    "        return\n",
    "    \n",
    "    def evals(self, n, k):\n",
    "        self.getL(n)\n",
    "        return eigh(self.L, eigvals_only=True, eigvals=(k,k))\n",
    "    \n",
    "    def limit(self, k_, orders=[], limits=[], compare=False, top=12):\n",
    "        if len(orders) > 0:\n",
    "            vis = []\n",
    "            for i in range(2,top):\n",
    "                n = 2**i\n",
    "                if k_==-1: k = n-1\n",
    "                elif k_==0: k=ceil(n/2)-1\n",
    "                else:k=k_\n",
    "                res = self.evals(n, k)[0]\n",
    "                for j in range(len(orders)):\n",
    "                    res = res*(n**orders[j])\n",
    "                    try:\n",
    "                        res = limits[j] - res\n",
    "                    except:\n",
    "                        break\n",
    "                vis.append(res)\n",
    "        else:\n",
    "            vis = []\n",
    "            for i in range(2,12):\n",
    "                n = 2**i\n",
    "                if k_==-1: k = n-1\n",
    "                elif k_==0: k=ceil(n/2)-1\n",
    "                else:k=k_\n",
    "                res = self.evals(n, k)\n",
    "                vis.append(res[0])\n",
    "        \n",
    "        if compare:\n",
    "            ratios = np.array(vis[:-1])/np.array(vis[1:])\n",
    "            return vis, ratios\n",
    "        else:\n",
    "            return vis"
   ]
  },
  {
   "cell_type": "markdown",
   "metadata": {},
   "source": [
    "# Limits for $\\lambda_2$ of Tree\n",
    "\n",
    "$14\\pi^2-n^2(5\\pi^2-n^2\\lambda_2)\\to 0$"
   ]
  },
  {
   "cell_type": "code",
   "execution_count": 3,
   "metadata": {
    "scrolled": true
   },
   "outputs": [
    {
     "name": "stdout",
     "output_type": "stream",
     "text": [
      "\n",
      "Limit of lambda_2\n",
      "([1.9999999999999998, 0.7186057604078513, 0.19006506010544735, 0.04804115374243324, 0.01203904671216353, 0.0030114318456859997, 0.0007529583558903144, 0.0001882457385898704, 4.7061815085207135e-05, 1.1765477426469395e-05], array([2.78316722, 3.78084094, 3.95629674, 3.990445  , 3.99778156,\n",
      "       3.99946667, 3.99986933, 3.99996766, 3.99999196]))\n",
      "\n",
      "Limit of n^2 * lambda_2\n",
      "[31.999999999999996, 45.99076866610248, 48.65665538699452, 49.19414143225164, 49.31193533302182, 49.33929935971942, 49.34587881162764, 49.34749089690298, 49.34788981478616, 49.34798903175029]\n",
      "\n",
      "Limit of 5*pi^2 - n^2 * lambda_2\n",
      "([17.348022005446797, 3.357253339344311, 0.6913666184522711, 0.1538805731951527, 0.036086672424971766, 0.008722645727374356, 0.002143193819151179, 0.0005311085438108876, 0.00013219066063641094, 3.297369650567816e-05], array([5.16732586, 4.85596679, 4.49287785, 4.26419403, 4.13712462,\n",
      "       4.06992856, 4.03532168, 4.01774635, 4.00897305]))\n",
      "\n",
      "Limit of n^2(5*pi^2 - n^2 * lambda_2)\n",
      "[277.56835208714875, 214.8642137180359, 176.9898543237814, 157.57370695183636, 147.81101025268435, 142.91182759730145, 140.45635013189167, 139.2269181087613, 138.61195416748524, 138.30170714855194]\n",
      "\n",
      "Limit of 14*pi^2 - n^2(5*pi^2 - n^2 * lambda_2)\n",
      "([-139.39389047189775, -76.6897521027849, -38.815392708530396, -19.399245336585352, -9.63654863743335, -4.737365982050449, -2.281888516640663, -1.0524564935103058, -0.43749255223423233, -0.12724553330093613, 0.14120365397781143, -1.3575570462480187], array([ 1.81763386,  1.97575618,  2.00087127,  2.01309059,  2.03415752,\n",
      "        2.07607249,  2.16815472,  2.40565579,  3.43817611, -0.90114901,\n",
      "       -0.10401305]))\n"
     ]
    }
   ],
   "source": [
    "T = tree()\n",
    "\n",
    "print(\"Limit of lambda_2\")\n",
    "print(T.limit(1, compare=True))\n",
    "\n",
    "print(\"\\nLimit of n^2 * lambda_2\")\n",
    "print(T.limit(1, [2]))\n",
    "\n",
    "print(\"\\nLimit of 5*pi^2 - n^2 * lambda_2\")\n",
    "print(T.limit(1, [2],[5*np.pi**2], compare=True))\n",
    "\n",
    "print(\"\\nLimit of n^2(5*pi^2 - n^2 * lambda_2)\")\n",
    "print(T.limit(1, [2,2],[5*np.pi**2]))\n",
    "\n",
    "print(\"\\nLimit of 14*pi^2 - n^2(5*pi^2 - n^2 * lambda_2)\")\n",
    "print(T.limit(1, [2,2],[5*np.pi**2, 14*np.pi**2], compare=True, top=14))"
   ]
  },
  {
   "cell_type": "markdown",
   "metadata": {},
   "source": [
    "$14\\pi^2-n^2(5\\pi^2-n^2\\lambda_2)\\to 0$"
   ]
  },
  {
   "cell_type": "markdown",
   "metadata": {},
   "source": [
    "# Limits for $\\lambda_3$ of Tree\n",
    "\n",
    "$224\\pi^2-n^2(20\\pi^2-n^2\\lambda_3)\\to 0$"
   ]
  },
  {
   "cell_type": "code",
   "execution_count": 13,
   "metadata": {
    "scrolled": true
   },
   "outputs": [
    {
     "name": "stdout",
     "output_type": "stream",
     "text": [
      "Limit of lambda_3\n",
      "([4.0, 2.267949192431123, 0.7280956399206235, 0.19036685500944087, 0.048050566547480696, 0.012039340466149717, 0.003011441021417559, 0.000752958642596769, 0.00018824574754938394, 4.706181536560277e-05], array([1.76370794, 3.11490561, 3.82469753, 3.96180251, 3.99112947,\n",
      "       3.99786693, 3.99947733, 3.99987066, 3.99996783]))\n",
      "\n",
      "Limit of n^2 * lambda_3\n",
      "[64.0, 145.14874831559186, 186.39248381967963, 194.93565952966745, 196.81512057848093, 197.25255419739696, 197.35779877962113, 197.3835904048874, 197.3899729823428, 197.39156043520916]\n",
      "\n",
      "Limit of 20*pi^2 - n^2 * lambda_3\n",
      "([133.39208802178717, 52.243339706195314, 10.999604202107548, 2.456428492119727, 0.5769674433062448, 0.1395338243902131, 0.03428924216603946, 0.00849761689977413, 0.00211503944436231, 0.0005275865780163258], array([2.55328409, 4.74956542, 4.47788496, 4.25748198, 4.13496474,\n",
      "       4.06931783, 4.03515981, 4.01771084, 4.00889547]))\n",
      "\n",
      "Limit of n^2(20*pi^2 - n^2 * lambda_3)\n",
      "[2134.273408348595, 3343.5737411965, 2815.8986757395323, 2515.3827759306005, 2363.258647782379, 2286.1221788092516, 2247.179774593562, 2227.5992845743895, 2217.7796004116535, 2212.8584945201874, 2210.4883642196655]\n",
      "\n",
      "Limit of 224*pi^2 - n^2(20*pi^2 - n^2 * lambda_3)\n",
      "([76.51797749542129, -1132.782355352484, -605.1072898955163, -304.5913900865844, -152.46726193836275, -75.33079296523556, -36.38838874954581, -16.80789873037338, -6.988214567637442, -2.0671086761713013, 0.30302162435054925], array([-0.0675487 ,  1.87203555,  1.98661981,  1.99774946,  2.02396996,\n",
      "        2.07018765,  2.16495764,  2.40517783,  3.3806711 , -6.821654  ]))\n"
     ]
    }
   ],
   "source": [
    "T = tree()\n",
    "\n",
    "print(\"Limit of lambda_3\")\n",
    "print(T.limit(2, compare=True))\n",
    "\n",
    "print(\"\\nLimit of n^2 * lambda_3\")\n",
    "print(T.limit(2, [2]))\n",
    "\n",
    "print(\"\\nLimit of 20*pi^2 - n^2 * lambda_3\")\n",
    "print(T.limit(2, [2],[20*np.pi**2], compare=True))\n",
    "\n",
    "print(\"\\nLimit of n^2(20*pi^2 - n^2 * lambda_3)\")\n",
    "print(T.limit(2, [2,2],[20*np.pi**2],top=13))\n",
    "\n",
    "print(\"\\nLimit of 224*pi^2 - n^2(20*pi^2 - n^2 * lambda_3)\")\n",
    "print(T.limit(2, [2,2],[20*np.pi**2, 224*np.pi**2], compare=True, top=13))"
   ]
  },
  {
   "cell_type": "markdown",
   "metadata": {},
   "source": [
    "$224\\pi^2-n^2(20\\pi^2-n^2\\lambda_3)\\to 0$"
   ]
  },
  {
   "cell_type": "markdown",
   "metadata": {},
   "source": [
    "# Limits for $\\lambda_n$ of Tree\n",
    "\n",
    "$n^2\\left(-6.25 - \\frac{3.75-n^2(6.25-\\lambda_n)}{n^2}\\right) \\to \\approx -201.142$"
   ]
  },
  {
   "cell_type": "code",
   "execution_count": 32,
   "metadata": {},
   "outputs": [
    {
     "name": "stdout",
     "output_type": "stream",
     "text": [
      "Limit of lambda_n\n",
      "[4.0, 5.732050807568878, 6.103834431837829, 6.214441521668287, 6.2408917414982, 6.2477337532122235, 6.249436210693271, 6.249858627745026, 6.249964696741307, 6.24999117807158]\n",
      "\n",
      "Limit of 6.25 - lambda_n\n",
      "([2.25, 0.5179491924311224, 0.1461655681621714, 0.035558478331712884, 0.00910825850179986, 0.002266246787776538, 0.0005637893067289568, 0.00014137225497368178, 3.530325869327555e-05, 8.821928419777691e-06], array([4.34405543, 3.54357869, 4.1105687 , 3.90398212, 4.01909384,\n",
      "       4.01966969, 3.98797704, 4.00451007, 4.00176209]))\n",
      "\n",
      "Limit of n^2 * (6.25 - lambda_n)\n",
      "[36.0, 33.14874831559183, 37.41838544951588, 36.41188181167399, 37.307426823372225, 37.1301873709308, 36.94849600578891, 37.059888407820836, 37.018149787560105, 37.00184965878725, 37.01031540334225]\n",
      "\n",
      "Limit of 3.75 - n^2 * (6.25 - lambda_n)\n",
      "([-32.25, -251.10125168440814, -1409.8575161803203, -6201.314340470332, -25399.43487942152, -102198.9974458026, -409398.8922012204, -1638198.8664095951, -6553398.860027018, -26214198.858439565, -104857398.85804373], array([0.12843425, 0.17810399, 0.22734818, 0.24415167, 0.2485292 ,\n",
      "       0.24963184, 0.24990793, 0.24997698, 0.24999425, 0.24999856]))\n",
      "\n",
      "Limit of n^-2(3.75 - n^2 * (6.25 - lambda_n))\n",
      "[-2.015625, -3.923457057568877, -5.507255922579376, -6.055971035615559, -6.201033906108769, -6.237731777697912, -6.246931338519598, -6.249232736242657, -6.249808177973764, -6.249952044114963, -6.249988011005147]\n",
      "\n",
      "Limit of -6.25 - n^-2(3.75 - n^2 * (6.25 - lambda_n))\n",
      "([-4.234375, -2.326542942431123, -0.7427440774206238, -0.19402896438444106, -0.048966093891230855, -0.012268222302087572, -0.0030686614804018575, -0.0007672637573428176, -0.00019182202623557743, -4.795588503725412e-05, -1.1988994852885071e-05], array([1.82002873, 3.13236149, 3.82800619, 3.96251669, 3.99129496,\n",
      "       3.9979067 , 3.99948707, 3.99987307, 3.99996843, 3.99999213]))\n",
      "\n",
      "Limit of n^2(-6.25 - n^-2(3.75 - n^2 * (6.25 - lambda_n)))\n",
      "[-67.75, -148.89874831559186, -190.14248381967968, -198.68565952966765, -200.56512057848158, -201.0025541974028, -201.10779877961613, -201.13359040487558, -201.13997298199683, -201.1415604352951, -201.14195626974106, -201.1420550942421]\n"
     ]
    }
   ],
   "source": [
    "T = tree()\n",
    "\n",
    "print(\"Limit of lambda_n\")\n",
    "print(T.limit(-1))\n",
    "\n",
    "print(\"\\nLimit of 6.25 - lambda_n\")\n",
    "print(T.limit(-1, [0],[6.25], compare=True))\n",
    "\n",
    "print(\"\\nLimit of n^2 * (6.25 - lambda_n)\")\n",
    "print(T.limit(-1, [0,2],[6.25], top=13))\n",
    "\n",
    "print(\"\\nLimit of 3.75 - n^2 * (6.25 - lambda_n)\")\n",
    "print(T.limit(2, [0,2],[6.25, 3.75], compare=True,top=13))\n",
    "\n",
    "print(\"\\nLimit of n^-2(3.75 - n^2 * (6.25 - lambda_n))\")\n",
    "print(T.limit(2, [0,2,-2],[6.25, 3.75],top=13))\n",
    "\n",
    "print(\"\\nLimit of -6.25 - n^-2(3.75 - n^2 * (6.25 - lambda_n))\")\n",
    "print(T.limit(2, [0,2,-2],[6.25, 3.75, -6.25],top=13, compare=True))\n",
    "\n",
    "print(\"\\nLimit of n^2(-6.25 - n^-2(3.75 - n^2 * (6.25 - lambda_n)))\")\n",
    "print(T.limit(2, [0,2,-2, 2],[6.25, 3.75, -6.25],top=14))"
   ]
  },
  {
   "cell_type": "markdown",
   "metadata": {},
   "source": [
    "$n^2\\left(-6.25 - \\frac{3.75-n^2(6.25-\\lambda_n)}{n^2}\\right) \\to \\approx -201.142$"
   ]
  },
  {
   "cell_type": "markdown",
   "metadata": {},
   "source": [
    "# Limits for $\\lambda_{(n/2)}$ of Tree\n",
    "\n",
    "$n(4.4-\\lambda_{(n/2)})\\to \\approx 10.05$"
   ]
  },
  {
   "cell_type": "code",
   "execution_count": 52,
   "metadata": {},
   "outputs": [
    {
     "name": "stdout",
     "output_type": "stream",
     "text": [
      "Limit of lambda_(n/2)\n",
      "[1.9999999999999998, 3.2281237287624616, 3.9999999999999982, 4.224227102797177, 4.35633158373986, 4.425208676516482, 4.463717412067408, 4.4795379363953165, 4.490278244799742, 4.495436494706383]\n",
      "\n",
      "Limit of 4.5 - lambda_(n/2)\n",
      "([2.5, 1.2718762712375384, 0.5000000000000018, 0.27577289720282305, 0.14366841626014004, 0.07479132348351758, 0.036282587932592314, 0.0204620636046835, 0.009721755200257753, 0.004563505293616821], array([1.9656    , 2.54375254, 1.81308608, 1.91950955, 1.92092357,\n",
      "       2.06135581, 1.77316368, 2.10477051, 2.13032627]))\n",
      "\n",
      "Limit of n(4.5 - lambda_(n/2))\n",
      "[10.0, 10.175010169900307, 8.000000000000028, 8.824732710490338, 9.194778640648963, 9.57328940589025, 9.288342510743632, 10.476576565597952, 9.95507732506394, 9.346058841327249, 10.079228124628571]\n"
     ]
    }
   ],
   "source": [
    "T = tree()\n",
    "\n",
    "print(\"Limit of lambda_(n/2)\")\n",
    "print(T.limit(0,top=13))\n",
    "\n",
    "print(\"\\nLimit of 4.5 - lambda_(n/2)\")\n",
    "print(T.limit(0, [0],[4.5], compare=True))\n",
    "\n",
    "print(\"\\nLimit of n(4.5 - lambda_(n/2))\")\n",
    "print(T.limit(0, [0,1],[4.5],top=13))"
   ]
  },
  {
   "cell_type": "markdown",
   "metadata": {},
   "source": [
    "$n(4.4-\\lambda_{(n/2)})\\to \\approx 10.05$"
   ]
  },
  {
   "cell_type": "code",
   "execution_count": 42,
   "metadata": {},
   "outputs": [
    {
     "data": {
      "text/plain": [
       "0.45574268402323537"
      ]
     },
     "execution_count": 42,
     "metadata": {},
     "output_type": "execute_result"
    }
   ],
   "source": [
    "4.498/np.pi**2"
   ]
  },
  {
   "cell_type": "code",
   "execution_count": 46,
   "metadata": {},
   "outputs": [
    {
     "data": {
      "text/plain": [
       "array([2.])"
      ]
     },
     "execution_count": 46,
     "metadata": {},
     "output_type": "execute_result"
    }
   ],
   "source": [
    "T.evals(4,1)"
   ]
  },
  {
   "cell_type": "code",
   "execution_count": 49,
   "metadata": {},
   "outputs": [
    {
     "data": {
      "text/plain": [
       "9.869604401089358"
      ]
     },
     "execution_count": 49,
     "metadata": {},
     "output_type": "execute_result"
    }
   ],
   "source": [
    "np.pi**2"
   ]
  },
  {
   "cell_type": "code",
   "execution_count": 53,
   "metadata": {},
   "outputs": [
    {
     "data": {
      "text/plain": [
       "4096"
      ]
     },
     "execution_count": 53,
     "metadata": {},
     "output_type": "execute_result"
    }
   ],
   "source": [
    "2**12"
   ]
  },
  {
   "cell_type": "code",
   "execution_count": 60,
   "metadata": {},
   "outputs": [
    {
     "data": {
      "text/plain": [
       "array([10.04300658])"
      ]
     },
     "execution_count": 60,
     "metadata": {},
     "output_type": "execute_result"
    }
   ],
   "source": [
    "6000*(4.5 - T.evals(6000,3000-1))"
   ]
  },
  {
   "cell_type": "code",
   "execution_count": 56,
   "metadata": {},
   "outputs": [
    {
     "data": {
      "text/plain": [
       "2999"
      ]
     },
     "execution_count": 56,
     "metadata": {},
     "output_type": "execute_result"
    }
   ],
   "source": [
    "ceil(6000/2)-1"
   ]
  },
  {
   "cell_type": "code",
   "execution_count": 57,
   "metadata": {},
   "outputs": [
    {
     "data": {
      "text/plain": [
       "2999"
      ]
     },
     "execution_count": 57,
     "metadata": {},
     "output_type": "execute_result"
    }
   ],
   "source": [
    "3000-1"
   ]
  },
  {
   "cell_type": "code",
   "execution_count": 59,
   "metadata": {},
   "outputs": [
    {
     "data": {
      "text/plain": [
       "array([10.07922812])"
      ]
     },
     "execution_count": 59,
     "metadata": {},
     "output_type": "execute_result"
    }
   ],
   "source": [
    "4096*(4.5 - T.evals(4096,2048-1))"
   ]
  },
  {
   "cell_type": "code",
   "execution_count": null,
   "metadata": {},
   "outputs": [],
   "source": []
  }
 ],
 "metadata": {
  "kernelspec": {
   "display_name": "Python 3",
   "language": "python",
   "name": "python3"
  },
  "language_info": {
   "codemirror_mode": {
    "name": "ipython",
    "version": 3
   },
   "file_extension": ".py",
   "mimetype": "text/x-python",
   "name": "python",
   "nbconvert_exporter": "python",
   "pygments_lexer": "ipython3",
   "version": "3.6.4"
  }
 },
 "nbformat": 4,
 "nbformat_minor": 2
}
