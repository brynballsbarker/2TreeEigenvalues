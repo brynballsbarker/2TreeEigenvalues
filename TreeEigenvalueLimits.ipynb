{
 "cells": [
  {
   "cell_type": "code",
   "execution_count": 2,
   "metadata": {
    "collapsed": true
   },
   "outputs": [],
   "source": [
    "import numpy as np\n",
    "from scipy.sparse import diags\n",
    "from scipy.linalg import eigh\n",
    "from math import ceil"
   ]
  },
  {
   "cell_type": "markdown",
   "metadata": {},
   "source": [
    "### Good values to know\n",
    "\n",
    "$\\frac{\\pi^4}{12}= 8.117424252833535$\n",
    "\n",
    "$\\frac{\\pi^6}{360}=2.6705255377091786$ \n",
    "\n",
    "$\\frac{4\\pi^4}{3}= 129.87878804533656$ \n",
    "\n",
    "$\\frac{8\\pi^6}{45}= 170.91363441338743$ \n",
    "\n",
    "$\\frac{\\pi^3}{3}= 10.335425560099939$ \n",
    "\n",
    "$\\frac{\\pi^5}{60}= 5.10032807975469$ "
   ]
  },
  {
   "cell_type": "code",
   "execution_count": 3,
   "metadata": {},
   "outputs": [
    {
     "name": "stdout",
     "output_type": "stream",
     "text": [
      "8.117424252833535\n",
      "2.6705255377091786\n",
      "129.87878804533656\n",
      "170.91363441338743\n",
      "10.335425560099939\n",
      "5.10032807975469\n"
     ]
    }
   ],
   "source": [
    "print(np.pi**4/12)\n",
    "print(np.pi**6/360)\n",
    "print(4*np.pi**4/3)\n",
    "print(8*np.pi**6/45)\n",
    "print(np.pi**3/3)\n",
    "print(np.pi**5/60)"
   ]
  },
  {
   "cell_type": "markdown",
   "metadata": {},
   "source": [
    "# Limits for $\\lambda_2$ of Tree\n",
    "\n",
    "$n^2(5\\pi^2-n^2\\lambda_2)\\to \\approx 138$"
   ]
  },
  {
   "cell_type": "code",
   "execution_count": 4,
   "metadata": {
    "collapsed": true
   },
   "outputs": [],
   "source": [
    "def compute(n, k):\n",
    "    A = diags([1, 1,1,1], [-2,-1, 1,2], shape=(n,n)).todense()\n",
    "    D = np.diag([np.sum(i) for i in A])\n",
    "    L = D - A\n",
    "    \n",
    "    evals = eigh(L, eigvals_only=True, eigvals=(k,k))[0]\n",
    "    print(evals)\n",
    "    temp =  n**2 * (5*np.pi**2 - n**2 * evals)\n",
    "    print(temp)"
   ]
  },
  {
   "cell_type": "code",
   "execution_count": 5,
   "metadata": {},
   "outputs": [
    {
     "name": "stdout",
     "output_type": "stream",
     "text": [
      "n: 8\n",
      "0.718605760408\n",
      "214.864213718\n",
      "n: 16\n",
      "0.190065060105\n",
      "176.989854324\n",
      "n: 32\n",
      "0.0480411537424\n",
      "157.573706953\n",
      "n: 64\n",
      "0.0120390467122\n",
      "147.811010244\n",
      "n: 128\n",
      "0.00301143184569\n",
      "142.911827679\n",
      "n: 256\n",
      "0.000752958355891\n",
      "140.456347971\n",
      "n: 512\n",
      "0.00018824573859\n",
      "139.226918109\n",
      "n: 1024\n",
      "4.70618150852e-05\n",
      "138.611954167\n",
      "n: 2048\n",
      "1.17654774265e-05\n",
      "138.301707149\n",
      "n: 4096\n",
      "2.94137083161e-06\n",
      "138.033257961\n"
     ]
    }
   ],
   "source": [
    "for i in range(3,13):\n",
    "    n = 2**i\n",
    "    print('n: {}'.format(n))\n",
    "    \n",
    "    compute(n, 1)"
   ]
  },
  {
   "cell_type": "code",
   "execution_count": 6,
   "metadata": {},
   "outputs": [
    {
     "data": {
      "text/plain": [
       "2.839605595985354"
      ]
     },
     "execution_count": 6,
     "metadata": {},
     "output_type": "execute_result"
    }
   ],
   "source": [
    "2*138.3017/np.pi**4"
   ]
  },
  {
   "cell_type": "code",
   "execution_count": 7,
   "metadata": {},
   "outputs": [
    {
     "data": {
      "text/plain": [
       "13.985693078616665"
      ]
     },
     "execution_count": 7,
     "metadata": {},
     "output_type": "execute_result"
    }
   ],
   "source": [
    "138.033257961/np.pi**2\n"
   ]
  },
  {
   "cell_type": "code",
   "execution_count": null,
   "metadata": {
    "collapsed": true
   },
   "outputs": [],
   "source": []
  },
  {
   "cell_type": "markdown",
   "metadata": {},
   "source": [
    "# Limits for $\\lambda_3$ of Tree\n",
    "\n",
    "$224\\pi^2-n^2(20\\pi^2-n^2\\lambda_3)\\to 0$"
   ]
  },
  {
   "cell_type": "code",
   "execution_count": 29,
   "metadata": {
    "collapsed": true
   },
   "outputs": [],
   "source": [
    "def compute(n, k):\n",
    "    A = diags([1, 1,1,1], [-2,-1, 1,2], shape=(n,n)).todense()\n",
    "    D = np.diag([np.sum(i) for i in A])\n",
    "    L = D - A\n",
    "    \n",
    "    evals = eigh(L, eigvals_only=True, eigvals=(k,k))[0]\n",
    "    print(evals)\n",
    "    temp = n**2*(20*np.pi**2 - n**2 * evals)\n",
    "    print(temp)"
   ]
  },
  {
   "cell_type": "code",
   "execution_count": 33,
   "metadata": {},
   "outputs": [
    {
     "name": "stdout",
     "output_type": "stream",
     "text": [
      "n: 8\n",
      "2.26794919243\n",
      "3343.5737412\n",
      "n: 16\n",
      "0.728095639921\n",
      "2815.89867574\n",
      "n: 32\n",
      "0.190366855009\n",
      "2515.38277593\n",
      "n: 64\n",
      "0.0480505665475\n",
      "2363.25864779\n",
      "n: 128\n",
      "0.0120393404662\n",
      "2286.12217867\n",
      "n: 256\n",
      "0.00301144102142\n",
      "2247.17977243\n",
      "n: 512\n",
      "0.000752958642596\n",
      "2227.59934003\n",
      "n: 1024\n",
      "0.000188245747549\n",
      "2217.77960041\n",
      "n: 2048\n",
      "4.70618153656e-05\n",
      "2212.85849452\n",
      "n: 4096\n",
      "1.17654774348e-05\n",
      "2210.48836422\n"
     ]
    }
   ],
   "source": [
    "for i in range(3,13):\n",
    "    n = 2**i\n",
    "    print('n: {}'.format(n))\n",
    "    \n",
    "    compute(n, 2)"
   ]
  },
  {
   "cell_type": "code",
   "execution_count": 35,
   "metadata": {
    "scrolled": true
   },
   "outputs": [
    {
     "data": {
      "text/plain": [
       "223.96926058718392"
      ]
     },
     "execution_count": 35,
     "metadata": {},
     "output_type": "execute_result"
    }
   ],
   "source": [
    "2210.488/np.pi**2"
   ]
  },
  {
   "cell_type": "code",
   "execution_count": 37,
   "metadata": {
    "collapsed": true
   },
   "outputs": [],
   "source": [
    "def compute(n, k):\n",
    "    A = diags([1, 1,1,1], [-2,-1, 1,2], shape=(n,n)).todense()\n",
    "    D = np.diag([np.sum(i) for i in A])\n",
    "    L = D - A\n",
    "    \n",
    "    evals = eigh(L, eigvals_only=True, eigvals=(k,k))[0]\n",
    "    print(evals)\n",
    "    temp = 224*np.pi**2 - n**2*(20*np.pi**2 - n**2 * evals)\n",
    "    print(temp)"
   ]
  },
  {
   "cell_type": "code",
   "execution_count": 38,
   "metadata": {},
   "outputs": [
    {
     "name": "stdout",
     "output_type": "stream",
     "text": [
      "n: 8\n",
      "2.26794919243\n",
      "-1132.78235535\n",
      "n: 16\n",
      "0.728095639921\n",
      "-605.107289896\n",
      "n: 32\n",
      "0.190366855009\n",
      "-304.591390086\n",
      "n: 64\n",
      "0.0480505665475\n",
      "-152.467261943\n",
      "n: 128\n",
      "0.0120393404662\n",
      "-75.3307928297\n",
      "n: 256\n",
      "0.00301144102142\n",
      "-36.3883865852\n",
      "n: 512\n",
      "0.000752958642596\n",
      "-16.807954185\n",
      "n: 1024\n",
      "0.000188245747549\n",
      "-6.98821456764\n",
      "n: 2048\n",
      "4.70618153656e-05\n",
      "-2.06710867617\n"
     ]
    }
   ],
   "source": [
    "for i in range(3,12):\n",
    "    n = 2**i\n",
    "    print('n: {}'.format(n))\n",
    "    \n",
    "    compute(n, 2)"
   ]
  },
  {
   "cell_type": "code",
   "execution_count": null,
   "metadata": {
    "collapsed": true
   },
   "outputs": [],
   "source": []
  },
  {
   "cell_type": "markdown",
   "metadata": {},
   "source": [
    "# Limits for $\\lambda_n$ of Tree\n",
    "\n",
    "$3.75-n^2(6.25-\\lambda_n) \\to 0$"
   ]
  },
  {
   "cell_type": "code",
   "execution_count": 39,
   "metadata": {
    "collapsed": true
   },
   "outputs": [],
   "source": [
    "def compute(n, k):\n",
    "    A = diags([1, 1,1,1], [-2,-1, 1,2], shape=(n,n)).todense()\n",
    "    D = np.diag([np.sum(i) for i in A])\n",
    "    L = D - A\n",
    "    \n",
    "    evals = eigh(L, eigvals_only=True, eigvals=(k,k))[0]\n",
    "    print(evals)\n",
    "    temp =  n**2 * (6.25 - evals)\n",
    "    print(temp)"
   ]
  },
  {
   "cell_type": "code",
   "execution_count": 40,
   "metadata": {},
   "outputs": [
    {
     "name": "stdout",
     "output_type": "stream",
     "text": [
      "n: 8\n",
      "5.73205080757\n",
      "33.1487483156\n",
      "n: 16\n",
      "6.10383443184\n",
      "37.4183854495\n",
      "n: 32\n",
      "6.21444152167\n",
      "36.4118818117\n",
      "n: 64\n",
      "6.2408917415\n",
      "37.3074268234\n",
      "n: 128\n",
      "6.24773375321\n",
      "37.1301873709\n",
      "n: 256\n",
      "6.24943621069\n",
      "36.9484960058\n",
      "n: 512\n",
      "6.24985862775\n",
      "37.0598884078\n",
      "n: 1024\n",
      "6.24996469674\n",
      "37.0181497876\n",
      "n: 2048\n",
      "6.24999117807\n",
      "37.0018496588\n"
     ]
    }
   ],
   "source": [
    "for i in range(3,12):\n",
    "    n = 2**i\n",
    "    print('n: {}'.format(n))\n",
    "    \n",
    "    compute(n, n-1)"
   ]
  },
  {
   "cell_type": "code",
   "execution_count": 41,
   "metadata": {},
   "outputs": [
    {
     "data": {
      "text/plain": [
       "37.01101650408509"
      ]
     },
     "execution_count": 41,
     "metadata": {},
     "output_type": "execute_result"
    }
   ],
   "source": [
    "3.75*np.pi**2"
   ]
  },
  {
   "cell_type": "code",
   "execution_count": 52,
   "metadata": {
    "collapsed": true
   },
   "outputs": [],
   "source": [
    "def compute(n, k):\n",
    "    A = diags([1, 1,1,1], [-2,-1, 1,2], shape=(n,n)).todense()\n",
    "    D = np.diag([np.sum(i) for i in A])\n",
    "    L = D - A\n",
    "    \n",
    "    evals = eigh(L, eigvals_only=True, eigvals=(k,k))[0]\n",
    "    print(evals)\n",
    "    temp = ( 3.74*np.pi**2  - n**2 * (6.25 - evals))\n",
    "    print(temp)"
   ]
  },
  {
   "cell_type": "code",
   "execution_count": 53,
   "metadata": {},
   "outputs": [
    {
     "name": "stdout",
     "output_type": "stream",
     "text": [
      "n: 8\n",
      "5.73205080757\n",
      "3.76357214448\n",
      "n: 16\n",
      "6.10383443184\n",
      "-0.506064989442\n",
      "n: 32\n",
      "6.21444152167\n",
      "0.5004386484\n",
      "n: 64\n",
      "6.2408917415\n",
      "-0.395106363309\n",
      "n: 128\n",
      "6.24773375321\n",
      "-0.217866910827\n",
      "n: 256\n",
      "6.24943621069\n",
      "-0.0361755457147\n",
      "n: 512\n",
      "6.24985862775\n",
      "-0.147567947747\n",
      "n: 1024\n",
      "6.24996469674\n",
      "-0.105829327486\n",
      "n: 2048\n",
      "6.24999117807\n",
      "-0.0895291987131\n"
     ]
    }
   ],
   "source": [
    "for i in range(3,12):\n",
    "    n = 2**i\n",
    "    print('n: {}'.format(n))\n",
    "    \n",
    "    compute(n, n-1)"
   ]
  },
  {
   "cell_type": "code",
   "execution_count": null,
   "metadata": {
    "collapsed": true
   },
   "outputs": [],
   "source": []
  },
  {
   "cell_type": "markdown",
   "metadata": {},
   "source": [
    "# Limits for $\\lambda_{(n/2)}$ of Tree\n",
    "\n",
    "$n(4.4-\\lambda_{(n/2)})\\to \\approx 10.05$"
   ]
  },
  {
   "cell_type": "code",
   "execution_count": 54,
   "metadata": {
    "collapsed": true
   },
   "outputs": [],
   "source": [
    "def compute(n, k):\n",
    "    A = diags([1, 1,1,1], [-2,-1, 1,2], shape=(n,n)).todense()\n",
    "    D = np.diag([np.sum(i) for i in A])\n",
    "    L = D - A\n",
    "    \n",
    "    evals = eigh(L, eigvals_only=True, eigvals=(k,k))[0]\n",
    "    print(evals)\n",
    "    #temp = \n",
    "    #print(temp)"
   ]
  },
  {
   "cell_type": "code",
   "execution_count": 56,
   "metadata": {},
   "outputs": [
    {
     "name": "stdout",
     "output_type": "stream",
     "text": [
      "n = 8\n",
      "3.22812372876\n",
      "n = 16\n",
      "4.0\n",
      "n = 32\n",
      "4.2242271028\n",
      "n = 64\n",
      "4.35633158374\n",
      "n = 128\n",
      "4.42520867652\n",
      "n = 256\n",
      "4.46371741207\n",
      "n = 512\n",
      "4.4795379364\n",
      "n = 1024\n",
      "4.4902782448\n",
      "n = 2048\n",
      "4.49543649471\n",
      "n = 4096\n",
      "4.49753925095\n"
     ]
    }
   ],
   "source": [
    "for i in range(3, 13):\n",
    "    n = 2**i\n",
    "    print('n = {}'.format(n))\n",
    "    compute(n, int(n/2)-1)"
   ]
  },
  {
   "cell_type": "code",
   "execution_count": 57,
   "metadata": {},
   "outputs": [
    {
     "data": {
      "text/plain": [
       "1.4316111271971597"
      ]
     },
     "execution_count": 57,
     "metadata": {},
     "output_type": "execute_result"
    }
   ],
   "source": [
    "4.497539/np.pi"
   ]
  },
  {
   "cell_type": "code",
   "execution_count": 64,
   "metadata": {},
   "outputs": [],
   "source": [
    "def compute(n, k):\n",
    "    A = diags([1, 1,1,1], [-2,-1, 1,2], shape=(n,n)).todense()\n",
    "    D = np.diag([np.sum(i) for i in A])\n",
    "    L = D - A\n",
    "    \n",
    "    evals = eigh(L, eigvals_only=True, eigvals=(k,k))[0]\n",
    "    print(evals)\n",
    "    temp = n*(4.5 - evals)\n",
    "    print(temp)"
   ]
  },
  {
   "cell_type": "code",
   "execution_count": 62,
   "metadata": {},
   "outputs": [
    {
     "name": "stdout",
     "output_type": "stream",
     "text": [
      "n = 8\n",
      "3.22812372876\n",
      "10.1750101699\n",
      "n = 16\n",
      "4.0\n",
      "8.0\n",
      "n = 32\n",
      "4.2242271028\n",
      "8.82473271049\n",
      "n = 64\n",
      "4.35633158374\n",
      "9.19477864065\n",
      "n = 128\n",
      "4.42520867652\n",
      "9.57328940589\n",
      "n = 256\n",
      "4.46371741207\n",
      "9.28834251074\n",
      "n = 512\n",
      "4.4795379364\n",
      "10.4765765656\n",
      "n = 1024\n",
      "4.4902782448\n",
      "9.95507732506\n",
      "n = 2048\n",
      "4.49543649471\n",
      "9.34605884132\n",
      "n = 4096\n",
      "4.49753925095\n",
      "10.0792281246\n"
     ]
    }
   ],
   "source": [
    "for i in range(3, 13):\n",
    "    n = 2**i\n",
    "    print('n = {}'.format(n))\n",
    "    compute(n, int(n/2)-1)"
   ]
  },
  {
   "cell_type": "code",
   "execution_count": 63,
   "metadata": {},
   "outputs": [
    {
     "data": {
      "text/plain": [
       "9.42477796076938"
      ]
     },
     "execution_count": 63,
     "metadata": {},
     "output_type": "execute_result"
    }
   ],
   "source": [
    "3*np.pi"
   ]
  },
  {
   "cell_type": "code",
   "execution_count": 67,
   "metadata": {
    "collapsed": true
   },
   "outputs": [],
   "source": [
    "def compute(n, k):\n",
    "    A = diags([1, 1,1,1], [-2,-1, 1,2], shape=(n,n)).todense()\n",
    "    D = np.diag([np.sum(i) for i in A])\n",
    "    L = D - A\n",
    "    \n",
    "    evals = eigh(L, eigvals_only=True, eigvals=(k,k))[0]\n",
    "    print(evals)\n",
    "    temp = 3*np.pi -n*(4.5 - evals)\n",
    "    print(temp)"
   ]
  },
  {
   "cell_type": "code",
   "execution_count": 68,
   "metadata": {},
   "outputs": [
    {
     "name": "stdout",
     "output_type": "stream",
     "text": [
      "n = 8\n",
      "3.22812372876\n",
      "-0.750232209131\n",
      "n = 16\n",
      "4.0\n",
      "1.42477796077\n",
      "n = 32\n",
      "4.2242271028\n",
      "0.600045250279\n",
      "n = 64\n",
      "4.35633158374\n",
      "0.22999932012\n",
      "n = 128\n",
      "4.42520867652\n",
      "-0.148511445121\n",
      "n = 256\n",
      "4.46371741207\n",
      "0.136435450026\n",
      "n = 512\n",
      "4.4795379364\n",
      "-1.05179860483\n",
      "n = 1024\n",
      "4.4902782448\n",
      "-0.530299364295\n",
      "n = 2048\n",
      "4.49543649471\n",
      "0.0787191194458\n"
     ]
    }
   ],
   "source": [
    "for i in range(3, 12):\n",
    "    n = 2**i\n",
    "    print('n = {}'.format(n))\n",
    "    compute(n, int(n/2)-1)"
   ]
  },
  {
   "cell_type": "code",
   "execution_count": null,
   "metadata": {
    "collapsed": true
   },
   "outputs": [],
   "source": []
  }
 ],
 "metadata": {
  "kernelspec": {
   "display_name": "Python 3",
   "language": "python",
   "name": "python3"
  },
  "language_info": {
   "codemirror_mode": {
    "name": "ipython",
    "version": 3
   },
   "file_extension": ".py",
   "mimetype": "text/x-python",
   "name": "python",
   "nbconvert_exporter": "python",
   "pygments_lexer": "ipython3",
   "version": "3.6.1"
  }
 },
 "nbformat": 4,
 "nbformat_minor": 2
}
