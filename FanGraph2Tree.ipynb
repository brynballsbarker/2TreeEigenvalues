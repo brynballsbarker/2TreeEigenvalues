{
 "cells": [
  {
   "cell_type": "code",
   "execution_count": 3,
   "metadata": {},
   "outputs": [],
   "source": [
    "import numpy as np\n",
    "from scipy.sparse import diags\n",
    "from scipy.linalg import eigh\n",
    "from math import ceil"
   ]
  },
  {
   "cell_type": "code",
   "execution_count": 34,
   "metadata": {},
   "outputs": [],
   "source": [
    "def compute(n, k=1):\n",
    "    A = diags([1, 1], [-1, 1], shape=(n,n)).todense()\n",
    "    A[0,2:] = A[0,2:] + 1\n",
    "    A[2:,0] = A[2:,0] + 1\n",
    "\n",
    "    D = np.diag([np.sum(i) for i in A])\n",
    "    L = D - A\n",
    "    \n",
    "    eval_ = eigh(L, eigvals_only=True, eigvals=(k,k))[0]\n",
    "    #print(eval_)\n",
    "    temp = n*(n*(n**2*(eval_- 1) - np.pi**2) - 2*np.pi**2)\n",
    "    print(temp)"
   ]
  },
  {
   "cell_type": "code",
   "execution_count": 41,
   "metadata": {},
   "outputs": [
    {
     "name": "stdout",
     "output_type": "stream",
     "text": [
      "n: 8\n",
      "21.694682056235536\n",
      "n: 16\n",
      "21.7916091048711\n",
      "n: 32\n",
      "21.67912165716575\n",
      "n: 64\n",
      "21.59344013025884\n",
      "n: 128\n",
      "21.54432524026288\n",
      "n: 256\n",
      "21.518313335984203\n",
      "n: 512\n",
      "21.50144909142182\n",
      "n: 1024\n",
      "21.496686456848693\n",
      "n: 2048\n",
      "23.335591439405107\n",
      "n: 4096\n",
      "-40.6708805183589\n"
     ]
    }
   ],
   "source": [
    "for i in range(3,13):\n",
    "    n = 2**i\n",
    "    print('n: {}'.format(n))\n",
    "    \n",
    "    compute(n, 1)"
   ]
  },
  {
   "cell_type": "code",
   "execution_count": 42,
   "metadata": {},
   "outputs": [
    {
     "data": {
      "text/plain": [
       "6.840479454089661"
      ]
     },
     "execution_count": 42,
     "metadata": {},
     "output_type": "execute_result"
    }
   ],
   "source": [
    "21.49/(np.pi)"
   ]
  },
  {
   "cell_type": "markdown",
   "metadata": {},
   "source": [
    "# $n\\left(n\\left(n^2(\\lambda_2-1)-\\pi^2\\right)-2\\pi^2\\right) \\to \\approx 21.49$"
   ]
  },
  {
   "cell_type": "code",
   "execution_count": 73,
   "metadata": {},
   "outputs": [],
   "source": [
    "def compute(n, k=1):\n",
    "    A = diags([1, 1], [-1, 1], shape=(n,n)).todense()\n",
    "    A[0,2:] = A[0,2:] + 1\n",
    "    A[2:,0] = A[2:,0] + 1\n",
    "\n",
    "    D = np.diag([np.sum(i) for i in A])\n",
    "    L = D - A\n",
    "    \n",
    "    eval_ = eigh(L, eigvals_only=True, eigvals=(k,k))[0]\n",
    "    #print(eval_)\n",
    "    temp = n*(8*np.pi**2 - n*(n**2 *(eval_- 1) -4*np.pi**2))\n",
    "    print(temp)"
   ]
  },
  {
   "cell_type": "code",
   "execution_count": 75,
   "metadata": {},
   "outputs": [
    {
     "name": "stdout",
     "output_type": "stream",
     "text": [
      "n: 8\n",
      "73.90186517533834\n",
      "n: 16\n",
      "38.01449418590664\n",
      "n: 32\n",
      "23.69371109219992\n",
      "n: 64\n",
      "17.32586644627554\n",
      "n: 128\n",
      "14.325978546108672\n",
      "n: 256\n",
      "12.870327283504594\n",
      "n: 512\n",
      "12.155321188023663\n",
      "n: 1024\n",
      "11.85065651635523\n",
      "n: 2048\n",
      "11.704509242379572\n",
      "n: 4096\n",
      "48.6835220734356\n"
     ]
    }
   ],
   "source": [
    "for i in range(3,13):\n",
    "    n = 2**i\n",
    "    print('n: {}'.format(n))\n",
    "    \n",
    "    compute(n, 2)"
   ]
  },
  {
   "cell_type": "code",
   "execution_count": 72,
   "metadata": {},
   "outputs": [
    {
     "data": {
      "text/plain": [
       "7.999420940073051"
      ]
     },
     "execution_count": 72,
     "metadata": {},
     "output_type": "execute_result"
    }
   ],
   "source": [
    "78.95112011631136/np.pi**2"
   ]
  },
  {
   "cell_type": "markdown",
   "metadata": {},
   "source": [
    "# $n\\left(8\\pi^2 - n\\left(n^2(\\lambda_2-1)-\\pi^2\\right)\\right) \\to \\approx 11.7$"
   ]
  },
  {
   "cell_type": "code",
   "execution_count": 94,
   "metadata": {},
   "outputs": [],
   "source": [
    "def compute(n, k=1):\n",
    "    A = diags([1, 1], [-1, 1], shape=(n,n)).todense()\n",
    "    A[0,2:] = A[0,2:] + 1\n",
    "    A[2:,0] = A[2:,0] + 1\n",
    "\n",
    "    D = np.diag([np.sum(i) for i in A])\n",
    "    L = D - A\n",
    "    \n",
    "    eval_ = eigh(L, eigvals_only=True, eigvals=(k,k))[0]\n",
    "    #print(eval_)\n",
    "    temp = n*(n*(n*(3 - eval_) - np.pi) - np.pi)\n",
    "    print(temp)"
   ]
  },
  {
   "cell_type": "markdown",
   "metadata": {},
   "source": [
    "for i in range(3,12):\n",
    "    n = 2**i\n",
    "    print('n: {}'.format(n))\n",
    "    \n",
    "    compute(n, int(n/2 - 1))"
   ]
  },
  {
   "cell_type": "code",
   "execution_count": 96,
   "metadata": {},
   "outputs": [
    {
     "data": {
      "text/plain": [
       "0.5886667421261477"
      ]
     },
     "execution_count": 96,
     "metadata": {},
     "output_type": "execute_result"
    }
   ],
   "source": [
    "1.8493511124761426/np.pi"
   ]
  },
  {
   "cell_type": "markdown",
   "metadata": {},
   "source": [
    "# $n\\left(n\\left(n(3-\\lambda_{n/2})-\\pi\\right)-\\pi\\right) \\to \\approx 1.85$"
   ]
  },
  {
   "cell_type": "code",
   "execution_count": null,
   "metadata": {},
   "outputs": [],
   "source": []
  }
 ],
 "metadata": {
  "kernelspec": {
   "display_name": "Python [Root]",
   "language": "python",
   "name": "Python [Root]"
  },
  "language_info": {
   "codemirror_mode": {
    "name": "ipython",
    "version": 2
   },
   "file_extension": ".py",
   "mimetype": "text/x-python",
   "name": "python",
   "nbconvert_exporter": "python",
   "pygments_lexer": "ipython2",
   "version": "2.7.14"
  }
 },
 "nbformat": 4,
 "nbformat_minor": 2
}
